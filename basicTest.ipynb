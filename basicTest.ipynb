{
 "cells": [
  {
   "cell_type": "code",
   "execution_count": 23,
   "metadata": {},
   "outputs": [],
   "source": [
    "import rdkit"
   ]
  },
  {
   "cell_type": "code",
   "execution_count": 24,
   "metadata": {},
   "outputs": [
    {
     "name": "stdout",
     "output_type": "stream",
     "text": [
      "<class 'rdkit.Chem.rdchem.Mol'>\n"
     ]
    }
   ],
   "source": [
    "smi='CC(C)OC(=O)C(C)NP(=O)(OCC1C(C(C(O1)N2C=CC(=O)NC2=O)(C)F)O)OC3=CC=CC=C3'\n",
    "from rdkit import Chem\n",
    "from rdkit.Chem import AllChem\n",
    "mol = Chem.MolFromSmiles(smi)\n",
    "print(type(mol))\n",
    "# 画出结构图\n",
    "Chem.Draw.MolToFile(mol, 'pic/mol1.png', size=(400, 400))"
   ]
  },
  {
   "cell_type": "code",
   "execution_count": null,
   "metadata": {},
   "outputs": [
    {
     "name": "stdout",
     "output_type": "stream",
     "text": [
      "                          Value\n",
      "MolLogP               -1.029300\n",
      "MolWt                194.194000\n",
      "NOCount                6.000000\n",
      "NumHDonors             0.000000\n",
      "NumHAcceptors          6.000000\n",
      "NumRotatableBonds      0.000000\n",
      "RingCount              2.000000\n",
      "NumAromaticRings       2.000000\n",
      "HOMO                   0.000000\n",
      "LUMO                   0.000000\n",
      "E_{g,N}                0.000000\n",
      "SAscore                0.538463\n",
      "NumValenceElectrons   48.000000\n",
      "TPSA                  61.820000\n",
      "LabuteASA             79.028957\n",
      "MaxEstateIndex        11.672037\n",
      "PCE                    0.000000\n"
     ]
    }
   ],
   "source": [
    "# 计算一个分子的参数表\n",
    "\n",
    "from rdkit import Chem\n",
    "from rdkit.Chem import Descriptors, Crippen, rdMolDescriptors\n",
    "from rdkit.Chem.QED import qed\n",
    "\n",
    "# Example molecule for demonstration (Caffeine)\n",
    "smiles = \"CN1C=NC2=C1C(=O)N(C(=O)N2C)C\"   # 咖啡因\n",
    "mol = Chem.MolFromSmiles(smiles)\n",
    "Chem.Draw.MolToFile(mol, 'pic/mol2.png', size=(400, 400))\n",
    "\n",
    "# Compute properties using RDKit\n",
    "properties = {\n",
    "    \"MolLogP\": Crippen.MolLogP(mol),\n",
    "    \"MolWt\": Descriptors.MolWt(mol),\n",
    "    \"NOCount\": sum(1 for atom in mol.GetAtoms() if atom.GetAtomicNum() in [7, 8]),\n",
    "    \"NumHDonors\": Descriptors.NumHDonors(mol),\n",
    "    \"NumHAcceptors\": Descriptors.NumHAcceptors(mol),\n",
    "    \"NumRotatableBonds\": Descriptors.NumRotatableBonds(mol),\n",
    "    \"RingCount\": Descriptors.RingCount(mol),\n",
    "    \"NumAromaticRings\": Descriptors.NumAromaticRings(mol),\n",
    "    \"HOMO\": 0,\n",
    "    \"LUMO\": 0,\n",
    "    \"E_{g,N}\": 0,\n",
    "    \"SAscore\": qed(mol),  # Using QED as a proxy for synthetic accessibility\n",
    "    \"NumValenceElectrons\": sum(atom.GetTotalValence() for atom in mol.GetAtoms()),\n",
    "    \"TPSA\": rdMolDescriptors.CalcTPSA(mol),\n",
    "    \"LabuteASA\": rdMolDescriptors.CalcLabuteASA(mol),\n",
    "    \"MaxEstateIndex\": Descriptors.MaxEStateIndex(mol),\n",
    "    \"PCE\": 0,\n",
    "}\n",
    "\n",
    "import pandas as pd\n",
    "# Convert results to a DataFrame for clarity\n",
    "properties_df = pd.DataFrame.from_dict(properties, orient=\"index\", columns=[\"Value\"])\n",
    "print(properties_df)\n"
   ]
  }
 ],
 "metadata": {
  "kernelspec": {
   "display_name": "Python 3",
   "language": "python",
   "name": "python3"
  },
  "language_info": {
   "codemirror_mode": {
    "name": "ipython",
    "version": 3
   },
   "file_extension": ".py",
   "mimetype": "text/x-python",
   "name": "python",
   "nbconvert_exporter": "python",
   "pygments_lexer": "ipython3",
   "version": "3.12.0"
  }
 },
 "nbformat": 4,
 "nbformat_minor": 2
}
